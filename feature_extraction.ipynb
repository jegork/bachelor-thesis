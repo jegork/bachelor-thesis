{
 "cells": [
  {
   "cell_type": "markdown",
   "metadata": {},
   "source": [
    "# Extract MobileNet features"
   ]
  },
  {
   "cell_type": "code",
   "execution_count": null,
   "metadata": {},
   "outputs": [],
   "source": [
    "from torchvision.models import mobilenet_v3_large\n",
    "from torchvision.models.feature_extraction import create_feature_extractor\n",
    "from torchvision import transforms\n",
    "\n",
    "mobilenet = mobilenet_v3_large(pretrained=True)\n",
    "mobilenet.eval()\n",
    "feature_extractor = create_feature_extractor(mobilenet, ['avgpool'])\n",
    "\n",
    "def extract_mobilenet_features(video):\n",
    "    t = transforms.Compose([\n",
    "        transforms.CenterCrop(224), \n",
    "        transforms.Normalize(mean=[0.485, 0.456, 0.406], std=[0.229, 0.224, 0.225])\n",
    "    ])\n",
    "    \n",
    "    with torch.no_grad():\n",
    "        return feature_extractor(t(video))['avgpool'].squeeze(-1).squeeze(-1)"
   ]
  },
  {
   "cell_type": "code",
   "execution_count": null,
   "metadata": {},
   "outputs": [],
   "source": [
    "import os\n",
    "import joblib\n",
    "from data import UCF101\n",
    "import torch\n",
    "from tqdm import tqdm\n",
    "\n",
    "if not os.path.exists('features'):\n",
    "    os.mkdir('features')\n",
    "\n",
    "train_dataset = UCF101('UCF-101', 'ucfTrainTestlist', 1, True)\n",
    "test_dataset = UCF101('UCF-101', 'ucfTrainTestlist', 1, False)\n",
    "\n",
    "train_features, test_features = [], []\n",
    "\n",
    "for i in tqdm(range(len(train_data))):\n",
    "    features = extract_mobilenet_features(train_dataset[i])\n",
    "    train_features.append(features)\n",
    "\n",
    "for i in tqdm(range(len(test_data))):\n",
    "    features = extract_mobilenet_features(test_dataset[i])\n",
    "    test_features.append(features)\n",
    "    \n",
    "# save features\n",
    "joblib.dump(train_features, 'features/mobilenet_train_features_01.pkl')\n",
    "joblib.dump(test_features, 'features/mobilenet_test_features_01.pkl')"
   ]
  },
  {
   "cell_type": "code",
   "execution_count": null,
   "metadata": {},
   "outputs": [],
   "source": [
    "from tqdm.notebook import tqdm\n",
    "from keyframes import *\n",
    "import cupy as cp\n",
    "\n",
    "extractor = KeyFrameExtractor(32, 'agglomerative', False)\n",
    "\n",
    "train_kfs = extractor.predict(train_features)\n",
    "test_kfs = extractor.predict(test_features)\n",
    "\n",
    "# save keyframes\n",
    "joblib.dump(test_kfs, 'keyframes/test_01_32frames_agglomerative.pkl')\n",
    "joblib.dump(train_kfs, 'keyframes/train_01_32frames_agglomerative.pkl')"
   ]
  },
  {
   "cell_type": "markdown",
   "metadata": {},
   "source": [
    "# Extract Swin features"
   ]
  },
  {
   "cell_type": "code",
   "execution_count": null,
   "metadata": {},
   "outputs": [],
   "source": [
    "from transformers import AutoFeatureExtractor, SwinModel\n",
    "import torch\n",
    "from data import UCF101\n",
    "import joblib\n",
    "\n",
    "from tqdm.notebook import tqdm\n",
    "\n",
    "feature_extractor = AutoFeatureExtractor.from_pretrained(\"microsoft/swin-tiny-patch4-window7-224\")\n",
    "swin = SwinModel.from_pretrained(\"microsoft/swin-tiny-patch4-window7-224\").cuda()\n",
    "\n",
    "def extract_swin_features(video):\n",
    "    inputs = feature_extractor(list(video), return_tensors=\"pt\")\n",
    "    pixel_values = inputs['pixel_values'].cuda()\n",
    "\n",
    "    with torch.no_grad():\n",
    "        outputs = swin(pixel_values=pixel_values)\n",
    "\n",
    "    return outputs.pooler_output.numpy()"
   ]
  },
  {
   "cell_type": "code",
   "execution_count": null,
   "metadata": {},
   "outputs": [],
   "source": [
    "train_dataset = UCF101('UCF-101', 'ucfTrainTestlist', 1, True)\n",
    "test_dataset = UCF101('UCF-101', 'ucfTrainTestlist', 1, False)\n",
    "\n",
    "train_features, test_features = [], []\n",
    "\n",
    "for i in tqdm(range(len(train_data))):\n",
    "    features = extract_swin_features(train_dataset[i])\n",
    "    train_features.append(features)\n",
    "\n",
    "for i in tqdm(range(len(test_data))):\n",
    "    features = extract_swin_features(test_dataset[i])\n",
    "    test_features.append(features)\n",
    "\n",
    "# save features\n",
    "joblib.dump(train_features, 'features/swin_train_features_01.pkl')\n",
    "joblib.dump(test_features, 'features/swin_test_features_01.pkl')"
   ]
  },
  {
   "cell_type": "code",
   "execution_count": null,
   "metadata": {},
   "outputs": [],
   "source": [
    "from tqdm.notebook import tqdm\n",
    "from keyframes import *\n",
    "import cupy as cp\n",
    "\n",
    "extractor = KeyFrameExtractor(32, 'agglomerative', False)\n",
    "\n",
    "train_kfs = extractor.predict(train_features)\n",
    "test_kfs = extractor.predict(test_features)\n",
    "\n",
    "# save keyframes\n",
    "joblib.dump(train_kfs, 'keyframes/train_01_32frames_agglomerative_swin.pkl') \n",
    "joblib.dump(test_kfs, 'keyframes/test_01_32frames_agglomerative_swin.pkl') "
   ]
  },
  {
   "cell_type": "markdown",
   "metadata": {},
   "source": [
    "# Get number of parameters per model"
   ]
  },
  {
   "cell_type": "code",
   "execution_count": null,
   "metadata": {},
   "outputs": [],
   "source": [
    "def get_n_params(model):\n",
    "    pp=0\n",
    "    for p in list(model.parameters()):\n",
    "        nn=1\n",
    "        for s in list(p.size()):\n",
    "            nn = nn*s\n",
    "        pp += nn\n",
    "    return pp\n",
    "\n",
    "print(\"MobileNet # params (millions):\", get_n_params(mobilenet)/1_000_000)\n",
    "print(\"Swin # params (millions):\", get_n_params(swin)/1_000_000)"
   ]
  }
 ],
 "metadata": {
  "language_info": {
   "name": "python"
  },
  "orig_nbformat": 4
 },
 "nbformat": 4,
 "nbformat_minor": 2
}
